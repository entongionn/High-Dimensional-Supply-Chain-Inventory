{
 "cells": [
  {
   "cell_type": "code",
   "execution_count": 118,
   "id": "c0702ce9",
   "metadata": {},
   "outputs": [
    {
     "data": {
      "text/html": [
       "<div>\n",
       "<style scoped>\n",
       "    .dataframe tbody tr th:only-of-type {\n",
       "        vertical-align: middle;\n",
       "    }\n",
       "\n",
       "    .dataframe tbody tr th {\n",
       "        vertical-align: top;\n",
       "    }\n",
       "\n",
       "    .dataframe thead th {\n",
       "        text-align: right;\n",
       "    }\n",
       "</style>\n",
       "<table border=\"1\" class=\"dataframe\">\n",
       "  <thead>\n",
       "    <tr style=\"text-align: right;\">\n",
       "      <th></th>\n",
       "      <th>Date</th>\n",
       "      <th>SKU_ID</th>\n",
       "      <th>Warehouse_ID</th>\n",
       "      <th>Supplier_ID</th>\n",
       "      <th>Region</th>\n",
       "      <th>Units_Sold</th>\n",
       "      <th>Inventory_Level</th>\n",
       "      <th>Supplier_Lead_Time_Days</th>\n",
       "      <th>Reorder_Point</th>\n",
       "      <th>Order_Quantity</th>\n",
       "      <th>Unit_Cost</th>\n",
       "      <th>Unit_Price</th>\n",
       "      <th>Promotion_Flag</th>\n",
       "      <th>Stockout_Flag</th>\n",
       "      <th>Demand_Forecast</th>\n",
       "    </tr>\n",
       "  </thead>\n",
       "  <tbody>\n",
       "    <tr>\n",
       "      <th>0</th>\n",
       "      <td>2024-01-01</td>\n",
       "      <td>SKU_1</td>\n",
       "      <td>WH_1</td>\n",
       "      <td>SUP_8</td>\n",
       "      <td>West</td>\n",
       "      <td>10</td>\n",
       "      <td>592</td>\n",
       "      <td>14</td>\n",
       "      <td>379</td>\n",
       "      <td>0</td>\n",
       "      <td>13.95</td>\n",
       "      <td>20.48</td>\n",
       "      <td>0</td>\n",
       "      <td>0</td>\n",
       "      <td>8.52</td>\n",
       "    </tr>\n",
       "    <tr>\n",
       "      <th>1</th>\n",
       "      <td>2024-01-02</td>\n",
       "      <td>SKU_1</td>\n",
       "      <td>WH_1</td>\n",
       "      <td>SUP_8</td>\n",
       "      <td>West</td>\n",
       "      <td>17</td>\n",
       "      <td>575</td>\n",
       "      <td>14</td>\n",
       "      <td>379</td>\n",
       "      <td>0</td>\n",
       "      <td>13.95</td>\n",
       "      <td>20.48</td>\n",
       "      <td>0</td>\n",
       "      <td>0</td>\n",
       "      <td>18.63</td>\n",
       "    </tr>\n",
       "    <tr>\n",
       "      <th>2</th>\n",
       "      <td>2024-01-03</td>\n",
       "      <td>SKU_1</td>\n",
       "      <td>WH_1</td>\n",
       "      <td>SUP_8</td>\n",
       "      <td>North</td>\n",
       "      <td>35</td>\n",
       "      <td>540</td>\n",
       "      <td>14</td>\n",
       "      <td>379</td>\n",
       "      <td>0</td>\n",
       "      <td>13.95</td>\n",
       "      <td>20.48</td>\n",
       "      <td>1</td>\n",
       "      <td>0</td>\n",
       "      <td>39.62</td>\n",
       "    </tr>\n",
       "    <tr>\n",
       "      <th>3</th>\n",
       "      <td>2024-01-04</td>\n",
       "      <td>SKU_1</td>\n",
       "      <td>WH_1</td>\n",
       "      <td>SUP_8</td>\n",
       "      <td>South</td>\n",
       "      <td>24</td>\n",
       "      <td>516</td>\n",
       "      <td>14</td>\n",
       "      <td>379</td>\n",
       "      <td>0</td>\n",
       "      <td>13.95</td>\n",
       "      <td>20.48</td>\n",
       "      <td>0</td>\n",
       "      <td>0</td>\n",
       "      <td>19.43</td>\n",
       "    </tr>\n",
       "    <tr>\n",
       "      <th>4</th>\n",
       "      <td>2024-01-05</td>\n",
       "      <td>SKU_1</td>\n",
       "      <td>WH_1</td>\n",
       "      <td>SUP_8</td>\n",
       "      <td>West</td>\n",
       "      <td>21</td>\n",
       "      <td>495</td>\n",
       "      <td>14</td>\n",
       "      <td>379</td>\n",
       "      <td>0</td>\n",
       "      <td>13.95</td>\n",
       "      <td>20.48</td>\n",
       "      <td>0</td>\n",
       "      <td>0</td>\n",
       "      <td>18.70</td>\n",
       "    </tr>\n",
       "  </tbody>\n",
       "</table>\n",
       "</div>"
      ],
      "text/plain": [
       "         Date SKU_ID Warehouse_ID Supplier_ID Region  Units_Sold  \\\n",
       "0  2024-01-01  SKU_1         WH_1       SUP_8   West          10   \n",
       "1  2024-01-02  SKU_1         WH_1       SUP_8   West          17   \n",
       "2  2024-01-03  SKU_1         WH_1       SUP_8  North          35   \n",
       "3  2024-01-04  SKU_1         WH_1       SUP_8  South          24   \n",
       "4  2024-01-05  SKU_1         WH_1       SUP_8   West          21   \n",
       "\n",
       "   Inventory_Level  Supplier_Lead_Time_Days  Reorder_Point  Order_Quantity  \\\n",
       "0              592                       14            379               0   \n",
       "1              575                       14            379               0   \n",
       "2              540                       14            379               0   \n",
       "3              516                       14            379               0   \n",
       "4              495                       14            379               0   \n",
       "\n",
       "   Unit_Cost  Unit_Price  Promotion_Flag  Stockout_Flag  Demand_Forecast  \n",
       "0      13.95       20.48               0              0             8.52  \n",
       "1      13.95       20.48               0              0            18.63  \n",
       "2      13.95       20.48               1              0            39.62  \n",
       "3      13.95       20.48               0              0            19.43  \n",
       "4      13.95       20.48               0              0            18.70  "
      ]
     },
     "execution_count": 118,
     "metadata": {},
     "output_type": "execute_result"
    }
   ],
   "source": [
    "import pandas as pd\n",
    "import numpy as np\n",
    "import matplotlib.pyplot as plt\n",
    "import seaborn as sns\n",
    "\n",
    "from sklearn.ensemble import RandomForestClassifier\n",
    "from sklearn.model_selection import train_test_split, StratifiedKFold, cross_val_score\n",
    "from sklearn.preprocessing import LabelEncoder\n",
    "from imblearn.over_sampling import SMOTE\n",
    "from imblearn.pipeline import Pipeline\n",
    "\n",
    "\n",
    "from sklearn.metrics import (\n",
    "    confusion_matrix,\n",
    "    classification_report,\n",
    "    recall_score,\n",
    "    precision_score,\n",
    "    balanced_accuracy_score,\n",
    "    roc_auc_score,\n",
    "    roc_curve,\n",
    "    f1_score,\n",
    "    average_precision_score,\n",
    "    precision_recall_curve\n",
    ")\n",
    "\n",
    "import xgboost as xgb\n",
    "from xgboost import XGBClassifier\n",
    "from xgboost.callback import EarlyStopping\n",
    "import shap\n",
    "\n",
    "\n",
    "df=pd.read_csv('supply_chain_dataset1.csv')\n",
    "\n",
    "\n",
    "df.head()\n",
    "\n",
    "#`Stockout_Flag`: non utile perché contiene solo zeri\n",
    "#`Unit_Cost`, `Unit_Price`, `Order_Quantity`: non necessarie ai fini della classificazione target"
   ]
  },
  {
   "cell_type": "code",
   "execution_count": 119,
   "id": "9cba5195",
   "metadata": {},
   "outputs": [
    {
     "name": "stdout",
     "output_type": "stream",
     "text": [
      "<class 'pandas.core.frame.DataFrame'>\n",
      "RangeIndex: 91250 entries, 0 to 91249\n",
      "Data columns (total 15 columns):\n",
      " #   Column                   Non-Null Count  Dtype  \n",
      "---  ------                   --------------  -----  \n",
      " 0   Date                     91250 non-null  object \n",
      " 1   SKU_ID                   91250 non-null  object \n",
      " 2   Warehouse_ID             91250 non-null  object \n",
      " 3   Supplier_ID              91250 non-null  object \n",
      " 4   Region                   91250 non-null  object \n",
      " 5   Units_Sold               91250 non-null  int64  \n",
      " 6   Inventory_Level          91250 non-null  int64  \n",
      " 7   Supplier_Lead_Time_Days  91250 non-null  int64  \n",
      " 8   Reorder_Point            91250 non-null  int64  \n",
      " 9   Order_Quantity           91250 non-null  int64  \n",
      " 10  Unit_Cost                91250 non-null  float64\n",
      " 11  Unit_Price               91250 non-null  float64\n",
      " 12  Promotion_Flag           91250 non-null  int64  \n",
      " 13  Stockout_Flag            91250 non-null  int64  \n",
      " 14  Demand_Forecast          91250 non-null  float64\n",
      "dtypes: float64(3), int64(7), object(5)\n",
      "memory usage: 10.4+ MB\n"
     ]
    }
   ],
   "source": [
    "df.info()"
   ]
  },
  {
   "cell_type": "code",
   "execution_count": 120,
   "id": "2be7d95d",
   "metadata": {},
   "outputs": [
    {
     "data": {
      "text/plain": [
       "(50, 5, 10)"
      ]
     },
     "execution_count": 120,
     "metadata": {},
     "output_type": "execute_result"
    }
   ],
   "source": [
    "# Verifica del numero di elementi unici per alcune variabili chiave\n",
    "# SKU_ID: prodotti distinti nel dataset\n",
    "# Warehouse_ID: magazzini coinvolti nella supply chain\n",
    "# Supplier_ID: fornitori che riforniscono i magazzini\n",
    "\n",
    "df['SKU_ID'].nunique(), df['Warehouse_ID'].nunique(), df['Supplier_ID'].nunique()"
   ]
  },
  {
   "cell_type": "code",
   "execution_count": 121,
   "id": "4b61ff1f",
   "metadata": {},
   "outputs": [],
   "source": [
    "# Creazione della variabile target: Stockout_Risk_Flag\n",
    "# Questa variabile sostituisce Stockout_Flag, che conteneva solo zeri (nessun prodotto mai esaurito).\n",
    "# Qui definiamo un prodotto \"a rischio esaurimento\" se le scorte sono inferiori o uguali\n",
    "# alla domanda prevista per i prossimi 7 giorni.\n",
    "df['Stockout_Risk_Flag'] = (df['Inventory_Level'] <= df['Demand_Forecast']*7).astype(int)"
   ]
  },
  {
   "cell_type": "markdown",
   "id": "0d657698",
   "metadata": {},
   "source": [
    "## Creazione della Variabile Target: Stockout_Risk_Flag\n",
    "\n",
    "Nel dataset originale era presente la variabile `Stockout_Flag`, pensata per indicare quando un prodotto era esaurito. Tuttavia, essa conteneva **solo valori pari a 0**, rendendola inutilizzabile per l'addestramento di un modello.\n",
    "\n",
    "Per questo motivo, è stata creata una nuova variabile binaria `Stockout_Risk_Flag`, che identifica i prodotti **a rischio di esaurimento** simulando uno scenario critico:\n",
    "\n",
    "- Viene considerato **a rischio** (`1`) un prodotto la cui **scorta attuale** (`Inventory_Level`) non copre la **domanda prevista per i prossimi 7 giorni** (`Demand_Forecast * 7`).\n",
    "- Altrimenti, è considerato **sicuro** (`0`).\n",
    "\n"
   ]
  },
  {
   "cell_type": "code",
   "execution_count": 122,
   "id": "75f17a1b",
   "metadata": {},
   "outputs": [
    {
     "data": {
      "text/plain": [
       "Stockout_Risk_Flag\n",
       "0    90531\n",
       "1      719\n",
       "Name: count, dtype: int64"
      ]
     },
     "execution_count": 122,
     "metadata": {},
     "output_type": "execute_result"
    }
   ],
   "source": [
    "df['Stockout_Risk_Flag'].value_counts()"
   ]
  },
  {
   "cell_type": "code",
   "execution_count": 123,
   "id": "ce22ed10",
   "metadata": {},
   "outputs": [],
   "source": [
    "# Feature engineering: creazione di nuove variabili derivate\n",
    "\n",
    "# Quanto inventario ho in più (o in meno) rispetto alla domanda prevista\n",
    "df['Inv_vs_Forecast'] = df['Inventory_Level'] - df['Demand_Forecast']\n",
    "\n",
    "# Quanti giorni di copertura ho, in base al ritmo di vendita attuale\n",
    "df['Coverage_Days'] = df['Inventory_Level'] / (df['Units_Sold'] + 1)  # +1 evita divisione per 0\n",
    "\n",
    "# Margine di sicurezza: distanza dal punto di riordino\n",
    "df['Safety_Margin'] = df['Inventory_Level'] - df['Reorder_Point']\n",
    "\n",
    "# Rapporto tra il tempo di consegna del fornitore e i giorni di copertura stimati\n",
    "df['Lead_Time_Ratio'] = df['Supplier_Lead_Time_Days'] / df['Coverage_Days']\n"
   ]
  },
  {
   "cell_type": "markdown",
   "id": "5c2ca9be",
   "metadata": {},
   "source": [
    "## Feature Engineering: Creazione di Variabili Derivate\n",
    "\n",
    "Per migliorare le performance del modello, sono state create alcune variabili ingegnerizzate che combinano feature esistenti:\n",
    "\n",
    "- **Inv_vs_Forecast**: Differenza tra le scorte attuali e la domanda prevista.\n",
    "- **Coverage_Days**: Stima di quanti giorni durerà la scorta, in base alle vendite attuali (`+1` per evitare divisioni per 0).\n",
    "- **Safety_Margin**: Margine tra scorte disponibili e livello minimo di riordino.\n",
    "- **Lead_Time_Ratio**: Confronto tra il tempo che serve per ricevere nuove forniture e il tempo di copertura stimato.\n",
    "\n",
    "Queste variabili aiutano il modello a cogliere segnali precoci di rischio esaurimento, anche se non esplicitamente presenti nei dati grezzi.\n"
   ]
  },
  {
   "cell_type": "code",
   "execution_count": 124,
   "id": "e75e7b43",
   "metadata": {},
   "outputs": [
    {
     "name": "stdout",
     "output_type": "stream",
     "text": [
      "<class 'pandas.core.frame.DataFrame'>\n",
      "RangeIndex: 91250 entries, 0 to 91249\n",
      "Data columns (total 20 columns):\n",
      " #   Column                   Non-Null Count  Dtype  \n",
      "---  ------                   --------------  -----  \n",
      " 0   Date                     91250 non-null  object \n",
      " 1   SKU_ID                   91250 non-null  object \n",
      " 2   Warehouse_ID             91250 non-null  object \n",
      " 3   Supplier_ID              91250 non-null  object \n",
      " 4   Region                   91250 non-null  object \n",
      " 5   Units_Sold               91250 non-null  int64  \n",
      " 6   Inventory_Level          91250 non-null  int64  \n",
      " 7   Supplier_Lead_Time_Days  91250 non-null  int64  \n",
      " 8   Reorder_Point            91250 non-null  int64  \n",
      " 9   Order_Quantity           91250 non-null  int64  \n",
      " 10  Unit_Cost                91250 non-null  float64\n",
      " 11  Unit_Price               91250 non-null  float64\n",
      " 12  Promotion_Flag           91250 non-null  int64  \n",
      " 13  Stockout_Flag            91250 non-null  int64  \n",
      " 14  Demand_Forecast          91250 non-null  float64\n",
      " 15  Stockout_Risk_Flag       91250 non-null  int64  \n",
      " 16  Inv_vs_Forecast          91250 non-null  float64\n",
      " 17  Coverage_Days            91250 non-null  float64\n",
      " 18  Safety_Margin            91250 non-null  int64  \n",
      " 19  Lead_Time_Ratio          91250 non-null  float64\n",
      "dtypes: float64(6), int64(9), object(5)\n",
      "memory usage: 13.9+ MB\n"
     ]
    }
   ],
   "source": [
    "df.info()"
   ]
  },
  {
   "cell_type": "code",
   "execution_count": 125,
   "id": "b890dd25",
   "metadata": {},
   "outputs": [
    {
     "data": {
      "text/html": [
       "<div>\n",
       "<style scoped>\n",
       "    .dataframe tbody tr th:only-of-type {\n",
       "        vertical-align: middle;\n",
       "    }\n",
       "\n",
       "    .dataframe tbody tr th {\n",
       "        vertical-align: top;\n",
       "    }\n",
       "\n",
       "    .dataframe thead th {\n",
       "        text-align: right;\n",
       "    }\n",
       "</style>\n",
       "<table border=\"1\" class=\"dataframe\">\n",
       "  <thead>\n",
       "    <tr style=\"text-align: right;\">\n",
       "      <th></th>\n",
       "      <th>Date</th>\n",
       "      <th>SKU_ID</th>\n",
       "      <th>Warehouse_ID</th>\n",
       "      <th>Supplier_ID</th>\n",
       "      <th>Region</th>\n",
       "    </tr>\n",
       "  </thead>\n",
       "  <tbody>\n",
       "    <tr>\n",
       "      <th>0</th>\n",
       "      <td>2024-01-01</td>\n",
       "      <td>SKU_1</td>\n",
       "      <td>WH_1</td>\n",
       "      <td>SUP_8</td>\n",
       "      <td>West</td>\n",
       "    </tr>\n",
       "    <tr>\n",
       "      <th>1</th>\n",
       "      <td>2024-01-02</td>\n",
       "      <td>SKU_1</td>\n",
       "      <td>WH_1</td>\n",
       "      <td>SUP_8</td>\n",
       "      <td>West</td>\n",
       "    </tr>\n",
       "    <tr>\n",
       "      <th>2</th>\n",
       "      <td>2024-01-03</td>\n",
       "      <td>SKU_1</td>\n",
       "      <td>WH_1</td>\n",
       "      <td>SUP_8</td>\n",
       "      <td>North</td>\n",
       "    </tr>\n",
       "    <tr>\n",
       "      <th>3</th>\n",
       "      <td>2024-01-04</td>\n",
       "      <td>SKU_1</td>\n",
       "      <td>WH_1</td>\n",
       "      <td>SUP_8</td>\n",
       "      <td>South</td>\n",
       "    </tr>\n",
       "    <tr>\n",
       "      <th>4</th>\n",
       "      <td>2024-01-05</td>\n",
       "      <td>SKU_1</td>\n",
       "      <td>WH_1</td>\n",
       "      <td>SUP_8</td>\n",
       "      <td>West</td>\n",
       "    </tr>\n",
       "  </tbody>\n",
       "</table>\n",
       "</div>"
      ],
      "text/plain": [
       "         Date SKU_ID Warehouse_ID Supplier_ID Region\n",
       "0  2024-01-01  SKU_1         WH_1       SUP_8   West\n",
       "1  2024-01-02  SKU_1         WH_1       SUP_8   West\n",
       "2  2024-01-03  SKU_1         WH_1       SUP_8  North\n",
       "3  2024-01-04  SKU_1         WH_1       SUP_8  South\n",
       "4  2024-01-05  SKU_1         WH_1       SUP_8   West"
      ]
     },
     "execution_count": 125,
     "metadata": {},
     "output_type": "execute_result"
    }
   ],
   "source": [
    "# Suddivisione delle variabili in categoriche e numeriche\n",
    "\n",
    "# Categoriche\n",
    "categorical=df.select_dtypes(include=['object'])\n",
    "categorical.head()"
   ]
  },
  {
   "cell_type": "code",
   "execution_count": 126,
   "id": "2f6b6476",
   "metadata": {},
   "outputs": [
    {
     "data": {
      "text/html": [
       "<div>\n",
       "<style scoped>\n",
       "    .dataframe tbody tr th:only-of-type {\n",
       "        vertical-align: middle;\n",
       "    }\n",
       "\n",
       "    .dataframe tbody tr th {\n",
       "        vertical-align: top;\n",
       "    }\n",
       "\n",
       "    .dataframe thead th {\n",
       "        text-align: right;\n",
       "    }\n",
       "</style>\n",
       "<table border=\"1\" class=\"dataframe\">\n",
       "  <thead>\n",
       "    <tr style=\"text-align: right;\">\n",
       "      <th></th>\n",
       "      <th>Units_Sold</th>\n",
       "      <th>Inventory_Level</th>\n",
       "      <th>Supplier_Lead_Time_Days</th>\n",
       "      <th>Reorder_Point</th>\n",
       "      <th>Order_Quantity</th>\n",
       "      <th>Unit_Cost</th>\n",
       "      <th>Unit_Price</th>\n",
       "      <th>Promotion_Flag</th>\n",
       "      <th>Stockout_Flag</th>\n",
       "      <th>Demand_Forecast</th>\n",
       "      <th>Stockout_Risk_Flag</th>\n",
       "      <th>Inv_vs_Forecast</th>\n",
       "      <th>Coverage_Days</th>\n",
       "      <th>Safety_Margin</th>\n",
       "      <th>Lead_Time_Ratio</th>\n",
       "    </tr>\n",
       "  </thead>\n",
       "  <tbody>\n",
       "    <tr>\n",
       "      <th>0</th>\n",
       "      <td>10</td>\n",
       "      <td>592</td>\n",
       "      <td>14</td>\n",
       "      <td>379</td>\n",
       "      <td>0</td>\n",
       "      <td>13.95</td>\n",
       "      <td>20.48</td>\n",
       "      <td>0</td>\n",
       "      <td>0</td>\n",
       "      <td>8.52</td>\n",
       "      <td>0</td>\n",
       "      <td>583.48</td>\n",
       "      <td>53.818182</td>\n",
       "      <td>213</td>\n",
       "      <td>0.260135</td>\n",
       "    </tr>\n",
       "    <tr>\n",
       "      <th>1</th>\n",
       "      <td>17</td>\n",
       "      <td>575</td>\n",
       "      <td>14</td>\n",
       "      <td>379</td>\n",
       "      <td>0</td>\n",
       "      <td>13.95</td>\n",
       "      <td>20.48</td>\n",
       "      <td>0</td>\n",
       "      <td>0</td>\n",
       "      <td>18.63</td>\n",
       "      <td>0</td>\n",
       "      <td>556.37</td>\n",
       "      <td>31.944444</td>\n",
       "      <td>196</td>\n",
       "      <td>0.438261</td>\n",
       "    </tr>\n",
       "    <tr>\n",
       "      <th>2</th>\n",
       "      <td>35</td>\n",
       "      <td>540</td>\n",
       "      <td>14</td>\n",
       "      <td>379</td>\n",
       "      <td>0</td>\n",
       "      <td>13.95</td>\n",
       "      <td>20.48</td>\n",
       "      <td>1</td>\n",
       "      <td>0</td>\n",
       "      <td>39.62</td>\n",
       "      <td>0</td>\n",
       "      <td>500.38</td>\n",
       "      <td>15.000000</td>\n",
       "      <td>161</td>\n",
       "      <td>0.933333</td>\n",
       "    </tr>\n",
       "    <tr>\n",
       "      <th>3</th>\n",
       "      <td>24</td>\n",
       "      <td>516</td>\n",
       "      <td>14</td>\n",
       "      <td>379</td>\n",
       "      <td>0</td>\n",
       "      <td>13.95</td>\n",
       "      <td>20.48</td>\n",
       "      <td>0</td>\n",
       "      <td>0</td>\n",
       "      <td>19.43</td>\n",
       "      <td>0</td>\n",
       "      <td>496.57</td>\n",
       "      <td>20.640000</td>\n",
       "      <td>137</td>\n",
       "      <td>0.678295</td>\n",
       "    </tr>\n",
       "    <tr>\n",
       "      <th>4</th>\n",
       "      <td>21</td>\n",
       "      <td>495</td>\n",
       "      <td>14</td>\n",
       "      <td>379</td>\n",
       "      <td>0</td>\n",
       "      <td>13.95</td>\n",
       "      <td>20.48</td>\n",
       "      <td>0</td>\n",
       "      <td>0</td>\n",
       "      <td>18.70</td>\n",
       "      <td>0</td>\n",
       "      <td>476.30</td>\n",
       "      <td>22.500000</td>\n",
       "      <td>116</td>\n",
       "      <td>0.622222</td>\n",
       "    </tr>\n",
       "  </tbody>\n",
       "</table>\n",
       "</div>"
      ],
      "text/plain": [
       "   Units_Sold  Inventory_Level  Supplier_Lead_Time_Days  Reorder_Point  \\\n",
       "0          10              592                       14            379   \n",
       "1          17              575                       14            379   \n",
       "2          35              540                       14            379   \n",
       "3          24              516                       14            379   \n",
       "4          21              495                       14            379   \n",
       "\n",
       "   Order_Quantity  Unit_Cost  Unit_Price  Promotion_Flag  Stockout_Flag  \\\n",
       "0               0      13.95       20.48               0              0   \n",
       "1               0      13.95       20.48               0              0   \n",
       "2               0      13.95       20.48               1              0   \n",
       "3               0      13.95       20.48               0              0   \n",
       "4               0      13.95       20.48               0              0   \n",
       "\n",
       "   Demand_Forecast  Stockout_Risk_Flag  Inv_vs_Forecast  Coverage_Days  \\\n",
       "0             8.52                   0           583.48      53.818182   \n",
       "1            18.63                   0           556.37      31.944444   \n",
       "2            39.62                   0           500.38      15.000000   \n",
       "3            19.43                   0           496.57      20.640000   \n",
       "4            18.70                   0           476.30      22.500000   \n",
       "\n",
       "   Safety_Margin  Lead_Time_Ratio  \n",
       "0            213         0.260135  \n",
       "1            196         0.438261  \n",
       "2            161         0.933333  \n",
       "3            137         0.678295  \n",
       "4            116         0.622222  "
      ]
     },
     "execution_count": 126,
     "metadata": {},
     "output_type": "execute_result"
    }
   ],
   "source": [
    "#Numeriche\n",
    "numeric=df.select_dtypes(include=['int','float64'])\n",
    "numeric.head()\n"
   ]
  },
  {
   "cell_type": "code",
   "execution_count": 127,
   "id": "38235154",
   "metadata": {},
   "outputs": [],
   "source": [
    "# Esportazione del dataset pulito e arricchito (senza encoding)\n",
    "df.to_csv(\"dataset_ml_features.csv\", index=False)\n"
   ]
  },
  {
   "cell_type": "code",
   "execution_count": 128,
   "id": "83431f9b",
   "metadata": {},
   "outputs": [],
   "source": [
    "useless_cols=['Unit_Cost','Unit_Price','Order_Quantity','Stockout_Flag']\n",
    "df=df.drop(columns=useless_cols)"
   ]
  },
  {
   "cell_type": "code",
   "execution_count": 129,
   "id": "45eefb18",
   "metadata": {},
   "outputs": [],
   "source": [
    "# Estrazione di caratteristiche temporali dalla data\n",
    "\n",
    "# Converte la colonna Date in formato datetime\n",
    "df['Date'] = pd.to_datetime(df['Date'])\n",
    "\n",
    "# Estrae il giorno della settimana (0=lunedì, 6=domenica)\n",
    "df['Weekday'] = df['Date'].dt.weekday\n",
    "\n",
    "# Estrae il mese\n",
    "df['Month'] = df['Date'].dt.month\n",
    "\n",
    "# Flag binario: 1 se weekend (sabato o domenica), 0 altrimenti\n",
    "df['Weekend'] = (df['Weekday'] >= 5).astype(int)\n",
    "\n",
    "# Rimuove la colonna originale Date\n",
    "df = df.drop(columns=['Date'])\n"
   ]
  },
  {
   "cell_type": "code",
   "execution_count": 130,
   "id": "c01ccbaf",
   "metadata": {},
   "outputs": [
    {
     "data": {
      "text/html": [
       "<div>\n",
       "<style scoped>\n",
       "    .dataframe tbody tr th:only-of-type {\n",
       "        vertical-align: middle;\n",
       "    }\n",
       "\n",
       "    .dataframe tbody tr th {\n",
       "        vertical-align: top;\n",
       "    }\n",
       "\n",
       "    .dataframe thead th {\n",
       "        text-align: right;\n",
       "    }\n",
       "</style>\n",
       "<table border=\"1\" class=\"dataframe\">\n",
       "  <thead>\n",
       "    <tr style=\"text-align: right;\">\n",
       "      <th></th>\n",
       "      <th>SKU_ID</th>\n",
       "      <th>Supplier_ID</th>\n",
       "      <th>Units_Sold</th>\n",
       "      <th>Inventory_Level</th>\n",
       "      <th>Supplier_Lead_Time_Days</th>\n",
       "      <th>Reorder_Point</th>\n",
       "      <th>Promotion_Flag</th>\n",
       "      <th>Demand_Forecast</th>\n",
       "      <th>Stockout_Risk_Flag</th>\n",
       "      <th>Inv_vs_Forecast</th>\n",
       "      <th>...</th>\n",
       "      <th>Weekday</th>\n",
       "      <th>Month</th>\n",
       "      <th>Weekend</th>\n",
       "      <th>Region_North</th>\n",
       "      <th>Region_South</th>\n",
       "      <th>Region_West</th>\n",
       "      <th>Warehouse_ID_WH_2</th>\n",
       "      <th>Warehouse_ID_WH_3</th>\n",
       "      <th>Warehouse_ID_WH_4</th>\n",
       "      <th>Warehouse_ID_WH_5</th>\n",
       "    </tr>\n",
       "  </thead>\n",
       "  <tbody>\n",
       "    <tr>\n",
       "      <th>0</th>\n",
       "      <td>0</td>\n",
       "      <td>8</td>\n",
       "      <td>10</td>\n",
       "      <td>592</td>\n",
       "      <td>14</td>\n",
       "      <td>379</td>\n",
       "      <td>0</td>\n",
       "      <td>8.52</td>\n",
       "      <td>0</td>\n",
       "      <td>583.48</td>\n",
       "      <td>...</td>\n",
       "      <td>0</td>\n",
       "      <td>1</td>\n",
       "      <td>0</td>\n",
       "      <td>False</td>\n",
       "      <td>False</td>\n",
       "      <td>True</td>\n",
       "      <td>False</td>\n",
       "      <td>False</td>\n",
       "      <td>False</td>\n",
       "      <td>False</td>\n",
       "    </tr>\n",
       "    <tr>\n",
       "      <th>1</th>\n",
       "      <td>0</td>\n",
       "      <td>8</td>\n",
       "      <td>17</td>\n",
       "      <td>575</td>\n",
       "      <td>14</td>\n",
       "      <td>379</td>\n",
       "      <td>0</td>\n",
       "      <td>18.63</td>\n",
       "      <td>0</td>\n",
       "      <td>556.37</td>\n",
       "      <td>...</td>\n",
       "      <td>1</td>\n",
       "      <td>1</td>\n",
       "      <td>0</td>\n",
       "      <td>False</td>\n",
       "      <td>False</td>\n",
       "      <td>True</td>\n",
       "      <td>False</td>\n",
       "      <td>False</td>\n",
       "      <td>False</td>\n",
       "      <td>False</td>\n",
       "    </tr>\n",
       "    <tr>\n",
       "      <th>2</th>\n",
       "      <td>0</td>\n",
       "      <td>8</td>\n",
       "      <td>35</td>\n",
       "      <td>540</td>\n",
       "      <td>14</td>\n",
       "      <td>379</td>\n",
       "      <td>1</td>\n",
       "      <td>39.62</td>\n",
       "      <td>0</td>\n",
       "      <td>500.38</td>\n",
       "      <td>...</td>\n",
       "      <td>2</td>\n",
       "      <td>1</td>\n",
       "      <td>0</td>\n",
       "      <td>True</td>\n",
       "      <td>False</td>\n",
       "      <td>False</td>\n",
       "      <td>False</td>\n",
       "      <td>False</td>\n",
       "      <td>False</td>\n",
       "      <td>False</td>\n",
       "    </tr>\n",
       "    <tr>\n",
       "      <th>3</th>\n",
       "      <td>0</td>\n",
       "      <td>8</td>\n",
       "      <td>24</td>\n",
       "      <td>516</td>\n",
       "      <td>14</td>\n",
       "      <td>379</td>\n",
       "      <td>0</td>\n",
       "      <td>19.43</td>\n",
       "      <td>0</td>\n",
       "      <td>496.57</td>\n",
       "      <td>...</td>\n",
       "      <td>3</td>\n",
       "      <td>1</td>\n",
       "      <td>0</td>\n",
       "      <td>False</td>\n",
       "      <td>True</td>\n",
       "      <td>False</td>\n",
       "      <td>False</td>\n",
       "      <td>False</td>\n",
       "      <td>False</td>\n",
       "      <td>False</td>\n",
       "    </tr>\n",
       "    <tr>\n",
       "      <th>4</th>\n",
       "      <td>0</td>\n",
       "      <td>8</td>\n",
       "      <td>21</td>\n",
       "      <td>495</td>\n",
       "      <td>14</td>\n",
       "      <td>379</td>\n",
       "      <td>0</td>\n",
       "      <td>18.70</td>\n",
       "      <td>0</td>\n",
       "      <td>476.30</td>\n",
       "      <td>...</td>\n",
       "      <td>4</td>\n",
       "      <td>1</td>\n",
       "      <td>0</td>\n",
       "      <td>False</td>\n",
       "      <td>False</td>\n",
       "      <td>True</td>\n",
       "      <td>False</td>\n",
       "      <td>False</td>\n",
       "      <td>False</td>\n",
       "      <td>False</td>\n",
       "    </tr>\n",
       "  </tbody>\n",
       "</table>\n",
       "<p>5 rows × 23 columns</p>\n",
       "</div>"
      ],
      "text/plain": [
       "   SKU_ID  Supplier_ID  Units_Sold  Inventory_Level  Supplier_Lead_Time_Days  \\\n",
       "0       0            8          10              592                       14   \n",
       "1       0            8          17              575                       14   \n",
       "2       0            8          35              540                       14   \n",
       "3       0            8          24              516                       14   \n",
       "4       0            8          21              495                       14   \n",
       "\n",
       "   Reorder_Point  Promotion_Flag  Demand_Forecast  Stockout_Risk_Flag  \\\n",
       "0            379               0             8.52                   0   \n",
       "1            379               0            18.63                   0   \n",
       "2            379               1            39.62                   0   \n",
       "3            379               0            19.43                   0   \n",
       "4            379               0            18.70                   0   \n",
       "\n",
       "   Inv_vs_Forecast  ...  Weekday  Month  Weekend  Region_North  Region_South  \\\n",
       "0           583.48  ...        0      1        0         False         False   \n",
       "1           556.37  ...        1      1        0         False         False   \n",
       "2           500.38  ...        2      1        0          True         False   \n",
       "3           496.57  ...        3      1        0         False          True   \n",
       "4           476.30  ...        4      1        0         False         False   \n",
       "\n",
       "   Region_West  Warehouse_ID_WH_2  Warehouse_ID_WH_3  Warehouse_ID_WH_4  \\\n",
       "0         True              False              False              False   \n",
       "1         True              False              False              False   \n",
       "2        False              False              False              False   \n",
       "3        False              False              False              False   \n",
       "4         True              False              False              False   \n",
       "\n",
       "   Warehouse_ID_WH_5  \n",
       "0              False  \n",
       "1              False  \n",
       "2              False  \n",
       "3              False  \n",
       "4              False  \n",
       "\n",
       "[5 rows x 23 columns]"
      ]
     },
     "execution_count": 130,
     "metadata": {},
     "output_type": "execute_result"
    }
   ],
   "source": [
    "#One-hot encoding\n",
    "df = pd.get_dummies(df, columns=['Region', 'Warehouse_ID'], drop_first=True)\n",
    "\n",
    "\n",
    "\n",
    "#Label encoding \n",
    "le_sku = LabelEncoder()\n",
    "le_supplier = LabelEncoder()\n",
    "\n",
    "df['SKU_ID'] = le_sku.fit_transform(df['SKU_ID'])\n",
    "df['Supplier_ID'] = le_supplier.fit_transform(df['Supplier_ID'])\n",
    "\n",
    "df.head()"
   ]
  },
  {
   "cell_type": "code",
   "execution_count": 131,
   "id": "0296503b",
   "metadata": {},
   "outputs": [
    {
     "data": {
      "text/plain": [
       "(50, 10)"
      ]
     },
     "execution_count": 131,
     "metadata": {},
     "output_type": "execute_result"
    }
   ],
   "source": [
    "df['SKU_ID'].nunique(), df['Supplier_ID'].nunique()"
   ]
  },
  {
   "cell_type": "code",
   "execution_count": 132,
   "id": "c352f256",
   "metadata": {},
   "outputs": [
    {
     "name": "stdout",
     "output_type": "stream",
     "text": [
      "<class 'pandas.core.frame.DataFrame'>\n",
      "RangeIndex: 91250 entries, 0 to 91249\n",
      "Data columns (total 23 columns):\n",
      " #   Column                   Non-Null Count  Dtype  \n",
      "---  ------                   --------------  -----  \n",
      " 0   SKU_ID                   91250 non-null  int64  \n",
      " 1   Supplier_ID              91250 non-null  int64  \n",
      " 2   Units_Sold               91250 non-null  int64  \n",
      " 3   Inventory_Level          91250 non-null  int64  \n",
      " 4   Supplier_Lead_Time_Days  91250 non-null  int64  \n",
      " 5   Reorder_Point            91250 non-null  int64  \n",
      " 6   Promotion_Flag           91250 non-null  int64  \n",
      " 7   Demand_Forecast          91250 non-null  float64\n",
      " 8   Stockout_Risk_Flag       91250 non-null  int64  \n",
      " 9   Inv_vs_Forecast          91250 non-null  float64\n",
      " 10  Coverage_Days            91250 non-null  float64\n",
      " 11  Safety_Margin            91250 non-null  int64  \n",
      " 12  Lead_Time_Ratio          91250 non-null  float64\n",
      " 13  Weekday                  91250 non-null  int32  \n",
      " 14  Month                    91250 non-null  int32  \n",
      " 15  Weekend                  91250 non-null  int64  \n",
      " 16  Region_North             91250 non-null  bool   \n",
      " 17  Region_South             91250 non-null  bool   \n",
      " 18  Region_West              91250 non-null  bool   \n",
      " 19  Warehouse_ID_WH_2        91250 non-null  bool   \n",
      " 20  Warehouse_ID_WH_3        91250 non-null  bool   \n",
      " 21  Warehouse_ID_WH_4        91250 non-null  bool   \n",
      " 22  Warehouse_ID_WH_5        91250 non-null  bool   \n",
      "dtypes: bool(7), float64(4), int32(2), int64(10)\n",
      "memory usage: 11.1 MB\n"
     ]
    }
   ],
   "source": [
    "df.info()"
   ]
  },
  {
   "cell_type": "code",
   "execution_count": 133,
   "id": "6a02d379",
   "metadata": {},
   "outputs": [],
   "source": [
    "#Preparazione dei dati per il modello\n",
    "# Separazione delle feature e della variabile target\n",
    "\n",
    "X=df.drop(columns=['Stockout_Risk_Flag'])\n",
    "y=df['Stockout_Risk_Flag']\n",
    "\n",
    "X_train,X_test,y_train,y_test=train_test_split(X,y, test_size=0.2, stratify=y, random_state=42)"
   ]
  },
  {
   "cell_type": "code",
   "execution_count": 134,
   "id": "0294ccca",
   "metadata": {},
   "outputs": [
    {
     "name": "stdout",
     "output_type": "stream",
     "text": [
      "F1-score per ciascun fold: \n",
      " [0.85258964 0.83524904 0.91666667 0.90833333 0.88065844]\n",
      "Media F1-score cross-val: 0.8787\n",
      "Deviazione standard: 0.0313\n"
     ]
    }
   ],
   "source": [
    "# Random Forest + SMOTE in pipeline\n",
    "# Si crea una pipeline con due step:\n",
    "# - SMOTE per oversampling della classe minoritaria\n",
    "# - Random Forest per la classificazione\n",
    "# Applichiamo 5-fold cross-validation per valutare la robustezza del modello usando l'F1-score\n",
    "\n",
    "pipeline = Pipeline([\n",
    "    ('smote', SMOTE(random_state=42)),\n",
    "    ('rf', RandomForestClassifier( random_state=42))\n",
    "])\n",
    "\n",
    "scores = cross_val_score(pipeline, X_train, y_train, cv=5, scoring='f1')\n",
    "print(\"F1-score per ciascun fold: \\n\", scores)\n",
    "print(f\"Media F1-score cross-val: {scores.mean():.4f}\")\n",
    "print(f\"Deviazione standard: {scores.std():.4f}\")\n"
   ]
  },
  {
   "cell_type": "markdown",
   "id": "3a419fc2",
   "metadata": {},
   "source": [
    "## Random Forest con Bilanciamento tramite SMOTE\n",
    "\n",
    "Per gestire l'evidente sbilanciamento tra classi (pochi esempi di stockout), ho creato una pipeline composta da:\n",
    "\n",
    "1. **SMOTE** (Synthetic Minority Over-sampling Technique): genera esempi sintetici della classe minoritaria per riequilibrare il dataset.\n",
    "2. **Random Forest**: algoritmo robusto e interpretabile basato su alberi decisionali, adatto a gestire dati eterogenei.\n",
    "\n",
    "La valutazione del modello è avvenuta tramite **cross-validation (5-fold)** usando come metrica l'**F1-score**, più adatto rispetto alla sola accuracy in presenza di classi sbilanciate.\n",
    "\n",
    "Il risultato ottenuto fornisce un’indicazione della **robustezza e capacità predittiva** del modello prima del test finale.\n",
    "\n",
    "La bassa deviazione standard indica che il modello è stabile nei vari fold, con prestazioni consistenti.\n",
    "\n",
    "Nota: nonostante non sia stato esplicitamente indicato, cross_val_score() in sklearn utilizza di default StratifiedKFold per problemi di classificazione, quindi ogni fold mantiene le proporzioni originali tra le classi."
   ]
  },
  {
   "cell_type": "code",
   "execution_count": 135,
   "id": "c1215bb5",
   "metadata": {},
   "outputs": [],
   "source": [
    "#Fit della pipeline (addestra il modello)\n",
    "pipeline.fit(X_train, y_train)\n",
    "\n",
    "# Previsione per il test set\n",
    "y_pred = pipeline.predict(X_test)\n",
    "\n",
    "# Previsione della probabilità per la classe 1 (\"Yes\") (necessario al fine di AUC, ROC, soglie personalizzate, ecc.)\n",
    "y_pred_prob = pipeline.predict_proba(X_test)[:, 1]"
   ]
  },
  {
   "cell_type": "code",
   "execution_count": 136,
   "id": "7b7b0c60",
   "metadata": {},
   "outputs": [
    {
     "name": "stdout",
     "output_type": "stream",
     "text": [
      "Miglior soglia: 0.64 con F1 score: 0.917563\n"
     ]
    }
   ],
   "source": [
    "# Ottimizzazione della soglia di classificazione\n",
    "thresholds = np.arange(0.1, 0.9, 0.01)\n",
    "f1_scores = [f1_score(y_test, y_pred_prob > t) for t in thresholds]\n",
    "best_threshold = thresholds[np.argmax(f1_scores)]\n",
    "print(f\"Miglior soglia: {best_threshold:.2f} con F1 score: {max(f1_scores):.6f}\")"
   ]
  },
  {
   "cell_type": "code",
   "execution_count": 137,
   "id": "53199773",
   "metadata": {},
   "outputs": [],
   "source": [
    "y_pred_064 = (np.where(y_pred_prob > 0.64, 1, 0))\n"
   ]
  },
  {
   "cell_type": "code",
   "execution_count": 138,
   "id": "bcc6f7e7",
   "metadata": {},
   "outputs": [
    {
     "data": {
      "text/plain": [
       "precision    0.954887\n",
       "recall       0.881944\n",
       "f1-score     0.916968\n",
       "dtype: float64"
      ]
     },
     "execution_count": 138,
     "metadata": {},
     "output_type": "execute_result"
    }
   ],
   "source": [
    "# Valutazione delle metriche principali sulla classe positiva (Stockout Risk = 1)\n",
    "# usando la soglia ottimizzata. F1-score, precision e recall offrono una visione\n",
    "# più bilanciata delle performance rispetto alla sola accuracy.\n",
    "\n",
    "report = classification_report(y_test, y_pred_064, output_dict=True)\n",
    "pd.Series(report['1'])[['precision', 'recall', 'f1-score']]"
   ]
  },
  {
   "cell_type": "code",
   "execution_count": 139,
   "id": "bc9c5ddd",
   "metadata": {},
   "outputs": [
    {
     "data": {
      "image/png": "[encoded data removed]",
      "text/plain": [
       "<Figure size 600x400 with 2 Axes>"
      ]
     },
     "metadata": {},
     "output_type": "display_data"
    }
   ],
   "source": [
    "# Calcolo della confusion matrix\n",
    "cm = confusion_matrix(y_test, y_pred_064)\n",
    "\n",
    "sns.set(style=\"whitegrid\")\n",
    "\n",
    "# Plot della heatmap\n",
    "plt.figure(figsize=(6, 4))\n",
    "sns.heatmap(cm, annot=True, fmt='d', cmap='Blues', \n",
    "            xticklabels=['No', 'Yes'], yticklabels=['No', 'Yes'],\n",
    "            annot_kws={\"size\": 14})\n",
    "plt.xlabel('Predetto', fontsize=12)\n",
    "plt.ylabel('Reale', fontsize=12)\n",
    "plt.title('Matrice di Confusione - Random Forest (Soglia 0.64)', fontsize=14)\n",
    "plt.tight_layout()\n",
    "plt.show()\n"
   ]
  },
  {
   "cell_type": "markdown",
   "id": "8b3108fe",
   "metadata": {},
   "source": [
    "**Interpretazione:**\n",
    "\n",
    "-Veri Negativi (TN): 18.100 prodotti non a rischio classificati correttamente\n",
    "\n",
    "-Veri Positivi (TP): 127 prodotti a rischio correttamente identificati\n",
    "\n",
    "-Falsi Positivi (FP): solo 6 falsi allarmi\n",
    "\n",
    "-Falsi Negativi (FN): 17 stockout a rischio non rilevati\n",
    "\n",
    "Il modello si dimostra molto preciso nel riconoscere i prodotti a rischio di esaurimento, mantenendo un ottimo compromesso tra falsi allarmi e mancate rilevazioni."
   ]
  },
  {
   "cell_type": "code",
   "execution_count": 140,
   "id": "334f0771",
   "metadata": {},
   "outputs": [],
   "source": [
    "y_pred_055 = (np.where(y_pred_prob > 0.55, 1, 0))"
   ]
  },
  {
   "cell_type": "code",
   "execution_count": 141,
   "id": "72207ae4",
   "metadata": {},
   "outputs": [
    {
     "data": {
      "text/plain": [
       "precision    0.909091\n",
       "recall       0.902778\n",
       "f1-score     0.905923\n",
       "dtype: float64"
      ]
     },
     "execution_count": 141,
     "metadata": {},
     "output_type": "execute_result"
    }
   ],
   "source": [
    "report = classification_report(y_test, y_pred_055, output_dict=True)\n",
    "pd.Series(report['1'])[['precision', 'recall', 'f1-score']]"
   ]
  },
  {
   "cell_type": "markdown",
   "id": "bc73c0f1",
   "metadata": {},
   "source": [
    "Dato l’obiettivo strategico del progetto — prevedere i prodotti a rischio esaurimento (stockout) — ho deciso di abbassare la soglia a 0.55.\n",
    "Questo perché:\n",
    "\n",
    "- Aumenta il recall (cioè intercetta più prodotti a rischio),\n",
    "\n",
    "- A discapito di una leggera riduzione della precision.\n",
    "\n",
    "Motivazione aziendale:\n",
    "In uno scenario reale, è più accettabile segnalare un rischio che poi non si verifica (falso positivo), piuttosto che non accorgersi di un rischio reale (falso negativo), che potrebbe portare a stockout con perdita di vendite e clienti."
   ]
  },
  {
   "cell_type": "code",
   "execution_count": 142,
   "id": "84a10b5f",
   "metadata": {},
   "outputs": [
    {
     "data": {
      "image/png": "[encoded data removed]",
      "text/plain": [
       "<Figure size 600x400 with 2 Axes>"
      ]
     },
     "metadata": {},
     "output_type": "display_data"
    }
   ],
   "source": [
    "# Calcolo della confusion matrix\n",
    "cm = confusion_matrix(y_test, y_pred_055)\n",
    "\n",
    "sns.set(style=\"whitegrid\")\n",
    "\n",
    "# Plot della heatmap\n",
    "plt.figure(figsize=(6, 4))\n",
    "sns.heatmap(cm, annot=True, fmt='d', cmap='Blues', \n",
    "            xticklabels=['No', 'Yes'], yticklabels=['No', 'Yes'],\n",
    "            annot_kws={\"size\": 14})\n",
    "plt.xlabel('Predetto', fontsize=12)\n",
    "plt.ylabel('Reale', fontsize=12)\n",
    "plt.title('Matrice di Confusione - Random Forest (Soglia 0.55)', fontsize=14)\n",
    "plt.tight_layout()\n",
    "plt.show()"
   ]
  },
  {
   "cell_type": "markdown",
   "id": "68cb368c",
   "metadata": {},
   "source": [
    "**Interpretazione:**\n",
    "\n",
    "-Veri Negativi (TN): 18.093 prodotti non a rischio classificati correttamente\n",
    "\n",
    "-Veri Positivi (TP): 130 prodotti a rischio correttamente identificati\n",
    "\n",
    "-Falsi Positivi (FP): 13 falsi allarmi\n",
    "\n",
    "-Falsi Negativi (FN): 14 stockout a rischio non rilevati\n",
    "\n",
    "In contesti di gestione inventario, le rotture di stock hanno impatti gravi: perdita di vendite, clienti insoddisfatti, inefficienze operative.\n",
    "\n",
    "Minimizzare i falsi negativi (FN) è quindi strategico: non vogliamo che un prodotto effettivamente a rischio passi inosservato.\n",
    "\n",
    "In questo scenario, abbassare la soglia a 0.55 ha portato a:\n",
    "\n",
    "- +2% di Recall (più prodotti a rischio intercettati).\n",
    "\n",
    "- Un lieve calo della Precision, comunque contenuto.\n",
    "\n"
   ]
  },
  {
   "cell_type": "code",
   "execution_count": 143,
   "id": "56a628ed",
   "metadata": {},
   "outputs": [
    {
     "data": {
      "image/png": "[encoded data removed]",
      "text/plain": [
       "<Figure size 800x500 with 1 Axes>"
      ]
     },
     "metadata": {},
     "output_type": "display_data"
    }
   ],
   "source": [
    "sns.set(style=\"whitegrid\")\n",
    "\n",
    "# Calcolo curva PR\n",
    "precision, recall, _ = precision_recall_curve(y_test, y_pred_prob)\n",
    "auc_pr = average_precision_score(y_test, y_pred_prob)\n",
    "\n",
    "# Plot\n",
    "plt.figure(figsize=(8, 5))\n",
    "sns.lineplot(x=recall, y=precision, label=f'AUC-PR = {auc_pr:.2f}')\n",
    "plt.xlabel('Recall')\n",
    "plt.ylabel('Precision')\n",
    "plt.title('Curva Precision-Recall - Random Forest')\n",
    "plt.legend(loc='lower left')\n",
    "plt.xlim([0, 1])\n",
    "plt.ylim([0, 1.05])\n",
    "plt.tight_layout()\n",
    "plt.show()"
   ]
  },
  {
   "cell_type": "markdown",
   "id": "7c7c5df2",
   "metadata": {},
   "source": [
    "La curva Precision-Recall conferma l’elevata qualità predittiva del modello Random Forest. L’andamento quasi perfettamente piatto suggerisce un’eccellente capacità di mantenere alta la precision anche con livelli di recall molto elevati. Il valore AUC-PR pari a 1.00 indica una performance praticamente perfetta nel distinguere tra le due classi, segno che il modello riesce a individuare i casi di stockout con grande precisione senza penalizzare il numero di falsi allarmi."
   ]
  },
  {
   "cell_type": "code",
   "execution_count": 144,
   "id": "8f4f5eac",
   "metadata": {},
   "outputs": [
    {
     "name": "stdout",
     "output_type": "stream",
     "text": [
      "[0]\tvalidation_0-logloss:0.44070\tvalidation_0-aucpr:0.99766\tvalidation_1-logloss:0.44156\tvalidation_1-aucpr:0.73201\n",
      "[1]\tvalidation_0-logloss:0.30116\tvalidation_0-aucpr:0.99790\tvalidation_1-logloss:0.30285\tvalidation_1-aucpr:0.75990\n",
      "[2]\tvalidation_0-logloss:0.21319\tvalidation_0-aucpr:0.99803\tvalidation_1-logloss:0.21548\tvalidation_1-aucpr:0.76301\n",
      "[3]\tvalidation_0-logloss:0.15441\tvalidation_0-aucpr:0.99818\tvalidation_1-logloss:0.15724\tvalidation_1-aucpr:0.78570\n",
      "[4]\tvalidation_0-logloss:0.11348\tvalidation_0-aucpr:0.99834\tvalidation_1-logloss:0.11693\tvalidation_1-aucpr:0.80284\n",
      "[5]\tvalidation_0-logloss:0.08451\tvalidation_0-aucpr:0.99865\tvalidation_1-logloss:0.08822\tvalidation_1-aucpr:0.79868\n",
      "[6]\tvalidation_0-logloss:0.06303\tvalidation_0-aucpr:0.99871\tvalidation_1-logloss:0.06675\tvalidation_1-aucpr:0.80469\n",
      "[7]\tvalidation_0-logloss:0.04771\tvalidation_0-aucpr:0.99929\tvalidation_1-logloss:0.05117\tvalidation_1-aucpr:0.85795\n",
      "[8]\tvalidation_0-logloss:0.03623\tvalidation_0-aucpr:0.99940\tvalidation_1-logloss:0.03961\tvalidation_1-aucpr:0.87034\n",
      "[9]\tvalidation_0-logloss:0.02786\tvalidation_0-aucpr:0.99942\tvalidation_1-logloss:0.03139\tvalidation_1-aucpr:0.87323\n",
      "[10]\tvalidation_0-logloss:0.02178\tvalidation_0-aucpr:0.99946\tvalidation_1-logloss:0.02545\tvalidation_1-aucpr:0.88857\n",
      "[11]\tvalidation_0-logloss:0.01675\tvalidation_0-aucpr:0.99988\tvalidation_1-logloss:0.02014\tvalidation_1-aucpr:0.93522\n",
      "[12]\tvalidation_0-logloss:0.01295\tvalidation_0-aucpr:0.99991\tvalidation_1-logloss:0.01624\tvalidation_1-aucpr:0.94337\n",
      "[13]\tvalidation_0-logloss:0.01002\tvalidation_0-aucpr:0.99994\tvalidation_1-logloss:0.01323\tvalidation_1-aucpr:0.95035\n",
      "[14]\tvalidation_0-logloss:0.00813\tvalidation_0-aucpr:0.99998\tvalidation_1-logloss:0.01145\tvalidation_1-aucpr:0.95101\n",
      "[15]\tvalidation_0-logloss:0.00642\tvalidation_0-aucpr:0.99999\tvalidation_1-logloss:0.00965\tvalidation_1-aucpr:0.96697\n",
      "[16]\tvalidation_0-logloss:0.00534\tvalidation_0-aucpr:1.00000\tvalidation_1-logloss:0.00862\tvalidation_1-aucpr:0.96854\n",
      "[17]\tvalidation_0-logloss:0.00432\tvalidation_0-aucpr:1.00000\tvalidation_1-logloss:0.00747\tvalidation_1-aucpr:0.97403\n",
      "[18]\tvalidation_0-logloss:0.00368\tvalidation_0-aucpr:1.00000\tvalidation_1-logloss:0.00687\tvalidation_1-aucpr:0.97482\n",
      "[19]\tvalidation_0-logloss:0.00308\tvalidation_0-aucpr:1.00000\tvalidation_1-logloss:0.00617\tvalidation_1-aucpr:0.97607\n",
      "[20]\tvalidation_0-logloss:0.00245\tvalidation_0-aucpr:1.00000\tvalidation_1-logloss:0.00540\tvalidation_1-aucpr:0.98073\n",
      "[21]\tvalidation_0-logloss:0.00203\tvalidation_0-aucpr:1.00000\tvalidation_1-logloss:0.00475\tvalidation_1-aucpr:0.98362\n",
      "[22]\tvalidation_0-logloss:0.00175\tvalidation_0-aucpr:1.00000\tvalidation_1-logloss:0.00433\tvalidation_1-aucpr:0.98655\n",
      "[23]\tvalidation_0-logloss:0.00149\tvalidation_0-aucpr:1.00000\tvalidation_1-logloss:0.00395\tvalidation_1-aucpr:0.98776\n",
      "[24]\tvalidation_0-logloss:0.00131\tvalidation_0-aucpr:1.00000\tvalidation_1-logloss:0.00369\tvalidation_1-aucpr:0.98918\n",
      "[25]\tvalidation_0-logloss:0.00114\tvalidation_0-aucpr:1.00000\tvalidation_1-logloss:0.00350\tvalidation_1-aucpr:0.99002\n",
      "[26]\tvalidation_0-logloss:0.00097\tvalidation_0-aucpr:1.00000\tvalidation_1-logloss:0.00314\tvalidation_1-aucpr:0.99144\n",
      "[27]\tvalidation_0-logloss:0.00083\tvalidation_0-aucpr:1.00000\tvalidation_1-logloss:0.00291\tvalidation_1-aucpr:0.99162\n",
      "[28]\tvalidation_0-logloss:0.00073\tvalidation_0-aucpr:1.00000\tvalidation_1-logloss:0.00278\tvalidation_1-aucpr:0.99189\n",
      "[29]\tvalidation_0-logloss:0.00064\tvalidation_0-aucpr:1.00000\tvalidation_1-logloss:0.00266\tvalidation_1-aucpr:0.99254\n",
      "[30]\tvalidation_0-logloss:0.00057\tvalidation_0-aucpr:1.00000\tvalidation_1-logloss:0.00259\tvalidation_1-aucpr:0.99247\n",
      "[31]\tvalidation_0-logloss:0.00051\tvalidation_0-aucpr:1.00000\tvalidation_1-logloss:0.00251\tvalidation_1-aucpr:0.99316\n",
      "[32]\tvalidation_0-logloss:0.00046\tvalidation_0-aucpr:1.00000\tvalidation_1-logloss:0.00248\tvalidation_1-aucpr:0.99333\n",
      "[33]\tvalidation_0-logloss:0.00043\tvalidation_0-aucpr:1.00000\tvalidation_1-logloss:0.00244\tvalidation_1-aucpr:0.99358\n",
      "[34]\tvalidation_0-logloss:0.00040\tvalidation_0-aucpr:1.00000\tvalidation_1-logloss:0.00237\tvalidation_1-aucpr:0.99376\n",
      "[35]\tvalidation_0-logloss:0.00035\tvalidation_0-aucpr:1.00000\tvalidation_1-logloss:0.00229\tvalidation_1-aucpr:0.99397\n",
      "[36]\tvalidation_0-logloss:0.00032\tvalidation_0-aucpr:1.00000\tvalidation_1-logloss:0.00223\tvalidation_1-aucpr:0.99421\n",
      "[37]\tvalidation_0-logloss:0.00031\tvalidation_0-aucpr:1.00000\tvalidation_1-logloss:0.00225\tvalidation_1-aucpr:0.99417\n",
      "[38]\tvalidation_0-logloss:0.00028\tvalidation_0-aucpr:1.00000\tvalidation_1-logloss:0.00218\tvalidation_1-aucpr:0.99420\n",
      "[39]\tvalidation_0-logloss:0.00027\tvalidation_0-aucpr:1.00000\tvalidation_1-logloss:0.00215\tvalidation_1-aucpr:0.99405\n",
      "[40]\tvalidation_0-logloss:0.00025\tvalidation_0-aucpr:1.00000\tvalidation_1-logloss:0.00214\tvalidation_1-aucpr:0.99400\n",
      "[41]\tvalidation_0-logloss:0.00023\tvalidation_0-aucpr:1.00000\tvalidation_1-logloss:0.00209\tvalidation_1-aucpr:0.99418\n",
      "[42]\tvalidation_0-logloss:0.00022\tvalidation_0-aucpr:1.00000\tvalidation_1-logloss:0.00212\tvalidation_1-aucpr:0.99432\n",
      "[43]\tvalidation_0-logloss:0.00021\tvalidation_0-aucpr:1.00000\tvalidation_1-logloss:0.00203\tvalidation_1-aucpr:0.99450\n",
      "[44]\tvalidation_0-logloss:0.00020\tvalidation_0-aucpr:1.00000\tvalidation_1-logloss:0.00204\tvalidation_1-aucpr:0.99455\n",
      "[45]\tvalidation_0-logloss:0.00018\tvalidation_0-aucpr:1.00000\tvalidation_1-logloss:0.00205\tvalidation_1-aucpr:0.99434\n",
      "[46]\tvalidation_0-logloss:0.00018\tvalidation_0-aucpr:1.00000\tvalidation_1-logloss:0.00203\tvalidation_1-aucpr:0.99444\n",
      "[47]\tvalidation_0-logloss:0.00017\tvalidation_0-aucpr:1.00000\tvalidation_1-logloss:0.00201\tvalidation_1-aucpr:0.99444\n",
      "[48]\tvalidation_0-logloss:0.00016\tvalidation_0-aucpr:1.00000\tvalidation_1-logloss:0.00202\tvalidation_1-aucpr:0.99436\n",
      "[49]\tvalidation_0-logloss:0.00015\tvalidation_0-aucpr:1.00000\tvalidation_1-logloss:0.00201\tvalidation_1-aucpr:0.99450\n",
      "[50]\tvalidation_0-logloss:0.00015\tvalidation_0-aucpr:1.00000\tvalidation_1-logloss:0.00201\tvalidation_1-aucpr:0.99469\n",
      "[51]\tvalidation_0-logloss:0.00014\tvalidation_0-aucpr:1.00000\tvalidation_1-logloss:0.00201\tvalidation_1-aucpr:0.99466\n",
      "[52]\tvalidation_0-logloss:0.00014\tvalidation_0-aucpr:1.00000\tvalidation_1-logloss:0.00198\tvalidation_1-aucpr:0.99457\n",
      "[53]\tvalidation_0-logloss:0.00013\tvalidation_0-aucpr:1.00000\tvalidation_1-logloss:0.00194\tvalidation_1-aucpr:0.99499\n",
      "[54]\tvalidation_0-logloss:0.00013\tvalidation_0-aucpr:1.00000\tvalidation_1-logloss:0.00194\tvalidation_1-aucpr:0.99496\n",
      "[55]\tvalidation_0-logloss:0.00013\tvalidation_0-aucpr:1.00000\tvalidation_1-logloss:0.00193\tvalidation_1-aucpr:0.99509\n",
      "[56]\tvalidation_0-logloss:0.00012\tvalidation_0-aucpr:1.00000\tvalidation_1-logloss:0.00191\tvalidation_1-aucpr:0.99510\n",
      "[57]\tvalidation_0-logloss:0.00012\tvalidation_0-aucpr:1.00000\tvalidation_1-logloss:0.00191\tvalidation_1-aucpr:0.99515\n",
      "[58]\tvalidation_0-logloss:0.00012\tvalidation_0-aucpr:1.00000\tvalidation_1-logloss:0.00190\tvalidation_1-aucpr:0.99511\n",
      "[59]\tvalidation_0-logloss:0.00011\tvalidation_0-aucpr:1.00000\tvalidation_1-logloss:0.00188\tvalidation_1-aucpr:0.99536\n",
      "[60]\tvalidation_0-logloss:0.00011\tvalidation_0-aucpr:1.00000\tvalidation_1-logloss:0.00187\tvalidation_1-aucpr:0.99538\n",
      "[61]\tvalidation_0-logloss:0.00011\tvalidation_0-aucpr:1.00000\tvalidation_1-logloss:0.00186\tvalidation_1-aucpr:0.99542\n",
      "[62]\tvalidation_0-logloss:0.00010\tvalidation_0-aucpr:1.00000\tvalidation_1-logloss:0.00183\tvalidation_1-aucpr:0.99553\n",
      "[63]\tvalidation_0-logloss:0.00010\tvalidation_0-aucpr:1.00000\tvalidation_1-logloss:0.00184\tvalidation_1-aucpr:0.99544\n",
      "[64]\tvalidation_0-logloss:0.00010\tvalidation_0-aucpr:1.00000\tvalidation_1-logloss:0.00183\tvalidation_1-aucpr:0.99560\n",
      "[65]\tvalidation_0-logloss:0.00010\tvalidation_0-aucpr:1.00000\tvalidation_1-logloss:0.00184\tvalidation_1-aucpr:0.99550\n",
      "[66]\tvalidation_0-logloss:0.00010\tvalidation_0-aucpr:1.00000\tvalidation_1-logloss:0.00184\tvalidation_1-aucpr:0.99548\n",
      "[67]\tvalidation_0-logloss:0.00009\tvalidation_0-aucpr:1.00000\tvalidation_1-logloss:0.00182\tvalidation_1-aucpr:0.99546\n",
      "[68]\tvalidation_0-logloss:0.00009\tvalidation_0-aucpr:1.00000\tvalidation_1-logloss:0.00180\tvalidation_1-aucpr:0.99552\n",
      "[69]\tvalidation_0-logloss:0.00009\tvalidation_0-aucpr:1.00000\tvalidation_1-logloss:0.00181\tvalidation_1-aucpr:0.99552\n",
      "[70]\tvalidation_0-logloss:0.00009\tvalidation_0-aucpr:1.00000\tvalidation_1-logloss:0.00181\tvalidation_1-aucpr:0.99554\n",
      "[71]\tvalidation_0-logloss:0.00009\tvalidation_0-aucpr:1.00000\tvalidation_1-logloss:0.00179\tvalidation_1-aucpr:0.99571\n",
      "[72]\tvalidation_0-logloss:0.00008\tvalidation_0-aucpr:1.00000\tvalidation_1-logloss:0.00178\tvalidation_1-aucpr:0.99576\n",
      "[73]\tvalidation_0-logloss:0.00008\tvalidation_0-aucpr:1.00000\tvalidation_1-logloss:0.00177\tvalidation_1-aucpr:0.99586\n",
      "[74]\tvalidation_0-logloss:0.00008\tvalidation_0-aucpr:1.00000\tvalidation_1-logloss:0.00175\tvalidation_1-aucpr:0.99587\n",
      "[75]\tvalidation_0-logloss:0.00008\tvalidation_0-aucpr:1.00000\tvalidation_1-logloss:0.00174\tvalidation_1-aucpr:0.99586\n",
      "[76]\tvalidation_0-logloss:0.00008\tvalidation_0-aucpr:1.00000\tvalidation_1-logloss:0.00174\tvalidation_1-aucpr:0.99589\n",
      "[77]\tvalidation_0-logloss:0.00008\tvalidation_0-aucpr:1.00000\tvalidation_1-logloss:0.00174\tvalidation_1-aucpr:0.99589\n",
      "[78]\tvalidation_0-logloss:0.00007\tvalidation_0-aucpr:1.00000\tvalidation_1-logloss:0.00171\tvalidation_1-aucpr:0.99589\n",
      "[79]\tvalidation_0-logloss:0.00007\tvalidation_0-aucpr:1.00000\tvalidation_1-logloss:0.00171\tvalidation_1-aucpr:0.99599\n",
      "[80]\tvalidation_0-logloss:0.00007\tvalidation_0-aucpr:1.00000\tvalidation_1-logloss:0.00170\tvalidation_1-aucpr:0.99604\n",
      "[81]\tvalidation_0-logloss:0.00007\tvalidation_0-aucpr:1.00000\tvalidation_1-logloss:0.00172\tvalidation_1-aucpr:0.99599\n",
      "[82]\tvalidation_0-logloss:0.00007\tvalidation_0-aucpr:1.00000\tvalidation_1-logloss:0.00173\tvalidation_1-aucpr:0.99602\n",
      "[83]\tvalidation_0-logloss:0.00007\tvalidation_0-aucpr:1.00000\tvalidation_1-logloss:0.00173\tvalidation_1-aucpr:0.99597\n",
      "[84]\tvalidation_0-logloss:0.00007\tvalidation_0-aucpr:1.00000\tvalidation_1-logloss:0.00171\tvalidation_1-aucpr:0.99611\n",
      "[85]\tvalidation_0-logloss:0.00007\tvalidation_0-aucpr:1.00000\tvalidation_1-logloss:0.00170\tvalidation_1-aucpr:0.99606\n",
      "[86]\tvalidation_0-logloss:0.00007\tvalidation_0-aucpr:1.00000\tvalidation_1-logloss:0.00171\tvalidation_1-aucpr:0.99601\n",
      "[87]\tvalidation_0-logloss:0.00007\tvalidation_0-aucpr:1.00000\tvalidation_1-logloss:0.00169\tvalidation_1-aucpr:0.99598\n",
      "[88]\tvalidation_0-logloss:0.00007\tvalidation_0-aucpr:1.00000\tvalidation_1-logloss:0.00168\tvalidation_1-aucpr:0.99607\n",
      "[89]\tvalidation_0-logloss:0.00007\tvalidation_0-aucpr:1.00000\tvalidation_1-logloss:0.00168\tvalidation_1-aucpr:0.99619\n",
      "[90]\tvalidation_0-logloss:0.00006\tvalidation_0-aucpr:1.00000\tvalidation_1-logloss:0.00168\tvalidation_1-aucpr:0.99615\n",
      "[91]\tvalidation_0-logloss:0.00006\tvalidation_0-aucpr:1.00000\tvalidation_1-logloss:0.00168\tvalidation_1-aucpr:0.99615\n",
      "[92]\tvalidation_0-logloss:0.00006\tvalidation_0-aucpr:1.00000\tvalidation_1-logloss:0.00168\tvalidation_1-aucpr:0.99617\n",
      "[93]\tvalidation_0-logloss:0.00006\tvalidation_0-aucpr:1.00000\tvalidation_1-logloss:0.00168\tvalidation_1-aucpr:0.99617\n",
      "[94]\tvalidation_0-logloss:0.00006\tvalidation_0-aucpr:1.00000\tvalidation_1-logloss:0.00168\tvalidation_1-aucpr:0.99614\n",
      "[95]\tvalidation_0-logloss:0.00006\tvalidation_0-aucpr:1.00000\tvalidation_1-logloss:0.00168\tvalidation_1-aucpr:0.99605\n",
      "[96]\tvalidation_0-logloss:0.00006\tvalidation_0-aucpr:1.00000\tvalidation_1-logloss:0.00169\tvalidation_1-aucpr:0.99600\n",
      "[97]\tvalidation_0-logloss:0.00006\tvalidation_0-aucpr:1.00000\tvalidation_1-logloss:0.00169\tvalidation_1-aucpr:0.99616\n",
      "[98]\tvalidation_0-logloss:0.00006\tvalidation_0-aucpr:1.00000\tvalidation_1-logloss:0.00168\tvalidation_1-aucpr:0.99618\n",
      "[99]\tvalidation_0-logloss:0.00006\tvalidation_0-aucpr:1.00000\tvalidation_1-logloss:0.00168\tvalidation_1-aucpr:0.99614\n",
      "Media F1-score cross-val: 0.9996\n"
     ]
    }
   ],
   "source": [
    "# XGBoost con SMOTE\n",
    "\n",
    "smote = SMOTE(random_state=42)\n",
    "X_train_sm, y_train_sm = smote.fit_resample(X_train, y_train)\n",
    "\n",
    "xgb_model = XGBClassifier(\n",
    "    eval_metric=['logloss', 'aucpr'], \n",
    "    random_state=42\n",
    ")\n",
    "\n",
    "xgb_model.fit(\n",
    "    X_train_sm, y_train_sm,\n",
    "    eval_set=[(X_train_sm, y_train_sm), (X_test, y_test)],\n",
    "    verbose=True\n",
    ")\n",
    "\n",
    "\n",
    "scores = cross_val_score(xgb_model, X_train_sm, y_train_sm, cv=5, scoring='f1')\n",
    "print(f\"Media F1-score cross-val: {scores.mean():.4f}\")\n",
    "\n"
   ]
  },
  {
   "cell_type": "markdown",
   "id": "74e8d68c",
   "metadata": {},
   "source": [
    "**XGBoost con Bilanciamento tramite SMOTE**\n",
    "\n",
    "Per affrontare lo sbilanciamento tra classi, anche in questo caso ho applicato SMOTE per generare esempi sintetici della classe minoritaria (Stockout_Risk_Flag = 1). Tuttavia, a differenza della Random Forest, il bilanciamento è stato effettuato fuori dalla pipeline, perché l’implementazione di XGBClassifier non si integra correttamente con imblearn.Pipeline e non consente il tracciamento diretto delle evaluation metrics (logloss, aucpr) durante l’addestramento se SMOTE è incluso come step interno.\n",
    "\n",
    "Per questo motivo:\n",
    "\n",
    "- ho prima bilanciato i dati con SMOTE.fit_resample(X_train, y_train);\n",
    "\n",
    "- poi ho addestrato il modello su questi dati, sfruttando eval_set per monitorare le metriche su training e test ad ogni iterazione.\n",
    "\n",
    "**Monitoraggio dell'addestramento**\n",
    "\n",
    "Durante il training, sono state monitorate due metriche:\n",
    "\n",
    "- LogLoss: che misura quanto le probabilità predette si discostano dai valori reali;\n",
    "\n",
    "- AUC-PR (Area Under the Precision-Recall Curve): particolarmente utile in contesti con classi sbilanciate.\n",
    "\n",
    "- I grafici e l’output mostrano un miglioramento progressivo e continuo su entrambe le metriche, con valori molto vicini tra set di training e validation, segnale che il modello non sta overfittando.\n",
    "\n",
    "**Valutazione tramite Cross-Validation**\n",
    "\n",
    "Ho applicato anche una 5-fold cross-validation sui dati bilanciati per stimare la robustezza del modello. Il risultato è eccellente:\n",
    "\n",
    "- Media F1-score: 0.9996\n",
    "\n",
    "Questo conferma la capacità predittiva e la solidità del modello su dati mai visti."
   ]
  },
  {
   "cell_type": "code",
   "execution_count": 145,
   "id": "4640ba23",
   "metadata": {},
   "outputs": [],
   "source": [
    "# Salva l'andamento delle metriche di training e validazione durante l'addestramento\n",
    "evals_result = xgb_model.evals_result()"
   ]
  },
  {
   "cell_type": "code",
   "execution_count": 146,
   "id": "a16a9fad",
   "metadata": {},
   "outputs": [
    {
     "data": {
      "image/png": "[encoded data removed]",
      "text/plain": [
       "<Figure size 900x500 with 1 Axes>"
      ]
     },
     "metadata": {},
     "output_type": "display_data"
    }
   ],
   "source": [
    "# Log Loss - Training vs Validation\n",
    "\n",
    "sns.set_style(\"whitegrid\")\n",
    "plt.figure(figsize=(9, 5))\n",
    "\n",
    "plt.plot(evals_result['validation_0']['logloss'], label='Train - LogLoss',  linewidth=2.2)\n",
    "plt.plot(evals_result['validation_1']['logloss'], label='Validation - LogLoss', linewidth=2.2)\n",
    "\n",
    "plt.title('Andamento della Log Loss durante il training',fontsize=13, weight='bold')\n",
    "plt.xlabel('Boosting Round', fontsize=11)\n",
    "plt.ylabel('Log Loss', fontsize=11)\n",
    "plt.legend(title='Set', loc='lower right')\n",
    "plt.grid(True, linestyle='--', alpha=0.4, )\n",
    "plt.tight_layout()\n",
    "plt.show()"
   ]
  },
  {
   "cell_type": "markdown",
   "id": "b07be0ef",
   "metadata": {},
   "source": [
    "**Andamento della Log Loss durante il Training**\n",
    "\n",
    "Il grafico mostra la discesa della log loss sia per il training set (blu) che per il validation set (arancione), in funzione dei boosting round.\n",
    "\n",
    "- La curva del validation set segue in modo molto ravvicinato quella del training, suggerendo che il modello non sta overfittando.\n",
    "\n",
    "- Entrambe convergono rapidamente verso valori prossimi allo zero entro i primi 30 round, segno di un apprendimento veloce e stabile.\n",
    "\n",
    "Questa stabilità, unita alla bassa distanza tra training e validation, è un ulteriore indicatore della robustezza del modello."
   ]
  },
  {
   "cell_type": "code",
   "execution_count": 147,
   "id": "5b19673c",
   "metadata": {},
   "outputs": [
    {
     "data": {
      "image/png": "[encoded data removed]",
      "text/plain": [
       "<Figure size 900x500 with 1 Axes>"
      ]
     },
     "metadata": {},
     "output_type": "display_data"
    }
   ],
   "source": [
    "sns.set_style(\"whitegrid\")\n",
    "plt.figure(figsize=(9, 5))\n",
    "\n",
    "\n",
    "plt.plot(evals_result['validation_0']['aucpr'], label='Train', linewidth=2.2)\n",
    "plt.plot(evals_result['validation_1']['aucpr'], label='Validation', linewidth=2.2)\n",
    "\n",
    "plt.title('Andamento AUC-PR durante il Training', fontsize=13, weight='bold')\n",
    "plt.xlabel('Boosting Round', fontsize=11)\n",
    "plt.ylabel('AUC-PR', fontsize=11)\n",
    "plt.legend(title='Set', loc='lower right')\n",
    "plt.grid(True, linestyle='--', alpha=0.4,)\n",
    "plt.tight_layout()\n",
    "plt.show()"
   ]
  },
  {
   "cell_type": "markdown",
   "id": "b0c34e63",
   "metadata": {},
   "source": [
    "**Andamento dell'AUC-PR durante il Training**\n",
    "\n",
    "Nel grafico si osserva l'evoluzione dell’AUC della curva Precision-Recall, una metrica particolarmente adatta in scenari con classi sbilanciate.\n",
    "\n",
    "- Il valore di AUC-PR sul set di validazione cresce rapidamente nelle prime iterazioni, stabilizzandosi attorno a 0.996 già prima del 40° boosting round.\n",
    "\n",
    "- Anche se la curva del training set resta leggermente superiore, la distanza tra le due curve è minima, indicando un modello ben generalizzato.\n",
    "\n",
    "- Questo comportamento rafforza l'idea che il modello ha appreso efficacemente a distinguere tra classi anche in condizioni di sbilanciamento, senza overfitting."
   ]
  },
  {
   "cell_type": "code",
   "execution_count": 148,
   "id": "bff9a9ed",
   "metadata": {},
   "outputs": [],
   "source": [
    "# Previsioni con probabilità\n",
    "y_pred_prob = xgb_model.predict_proba(X_test)[:, 1]"
   ]
  },
  {
   "cell_type": "code",
   "execution_count": 149,
   "id": "0ab577cd",
   "metadata": {},
   "outputs": [
    {
     "name": "stdout",
     "output_type": "stream",
     "text": [
      "Miglior soglia: 0.75 con F1 score: 0.972222\n"
     ]
    }
   ],
   "source": [
    "#Calcoliamo la miglior soglia con l'F1 score più alto\n",
    "thresholds = np.arange(0.1, 0.9, 0.01)\n",
    "f1_scores = [f1_score(y_test, y_pred_prob > t) for t in thresholds]\n",
    "best_threshold = thresholds[np.argmax(f1_scores)]\n",
    "print(f\"Miglior soglia: {best_threshold:.2f} con F1 score: {max(f1_scores):.6f}\")"
   ]
  },
  {
   "cell_type": "code",
   "execution_count": 150,
   "id": "952a4d96",
   "metadata": {},
   "outputs": [],
   "source": [
    "# Applichiamo la soglia 0.75 alle probabilità predette\n",
    "y_pred_075= np.where(y_pred_prob > 0.75, 1, 0)"
   ]
  },
  {
   "cell_type": "code",
   "execution_count": 151,
   "id": "cf5bf005",
   "metadata": {},
   "outputs": [
    {
     "data": {
      "text/plain": [
       "precision    0.972222\n",
       "recall       0.972222\n",
       "f1-score     0.972222\n",
       "dtype: float64"
      ]
     },
     "execution_count": 151,
     "metadata": {},
     "output_type": "execute_result"
    }
   ],
   "source": [
    "# Classification Report\n",
    "\n",
    "report = classification_report(y_test, y_pred_075, output_dict=True)\n",
    "pd.Series(report['1'])[['precision', 'recall', 'f1-score']]"
   ]
  },
  {
   "cell_type": "markdown",
   "id": "cb5d6f7a",
   "metadata": {},
   "source": [
    "**Scelta della soglia ottimale – XGBoost**\n",
    "\n",
    "Per migliorare ulteriormente le prestazioni del modello, ho cercato la soglia di classificazione ottimale analizzando l’andamento dell’F1-score al variare del threshold.\n",
    "La soglia 0.75 si è rivelata la più efficace, portando a:\n",
    "\n",
    "- Precision: 0.972\n",
    "\n",
    "- Recall: 0.972\n",
    "\n",
    "- F1-score: 0.972\n",
    "\n",
    "Questa soglia rappresenta un ottimo equilibrio tra la capacità del modello di identificare correttamente i casi positivi (recall) e minimizzare i falsi positivi (precision).\n",
    "In un contesto di previsione del rischio di stockout, è importante mantenere alta la precisione per evitare allarmi inutili, ma anche non sacrificare il recall: questa soglia garantisce entrambi."
   ]
  },
  {
   "cell_type": "code",
   "execution_count": 152,
   "id": "a2e3db7a",
   "metadata": {},
   "outputs": [
    {
     "data": {
      "image/png": "[encoded data removed]",
      "text/plain": [
       "<Figure size 600x400 with 2 Axes>"
      ]
     },
     "metadata": {},
     "output_type": "display_data"
    }
   ],
   "source": [
    "# Calcolo della confusion matrix\n",
    "cm = confusion_matrix(y_test, y_pred_075)\n",
    "\n",
    "sns.set(style=\"whitegrid\")\n",
    "\n",
    "# Plot della heatmap\n",
    "plt.figure(figsize=(6, 4))\n",
    "sns.heatmap(cm, annot=True, fmt='d', cmap='Blues', \n",
    "            xticklabels=['No', 'Yes'], yticklabels=['No', 'Yes'],\n",
    "            annot_kws={\"size\": 14})\n",
    "plt.xlabel('Predetto', fontsize=12)\n",
    "plt.ylabel('Reale', fontsize=12)\n",
    "plt.title('Matrice di Confusione - XGBoost (Soglia 0.75)', fontsize=14)\n",
    "plt.tight_layout()\n",
    "plt.show()"
   ]
  },
  {
   "cell_type": "markdown",
   "id": "7728c10e",
   "metadata": {},
   "source": [
    "La matrice di confusione mostra un comportamento eccellente del modello XGBoost alla soglia di 0.75:\n",
    "con solo 4 falsi positivi e 4 falsi negativi, il classificatore riesce a identificare correttamente il 97.2% dei casi positivi e a mantenere quasi invariata la precisione.\n",
    "Il modello dimostra quindi una capacità predittiva elevatissima, con un perfetto equilibrio tra affidabilità e copertura.\n"
   ]
  },
  {
   "cell_type": "code",
   "execution_count": 153,
   "id": "d4854455",
   "metadata": {},
   "outputs": [
    {
     "data": {
      "image/png": "[encoded data removed]",
      "text/plain": [
       "<Figure size 800x500 with 1 Axes>"
      ]
     },
     "metadata": {},
     "output_type": "display_data"
    }
   ],
   "source": [
    "sns.set(style=\"whitegrid\")\n",
    "\n",
    "# Calcolo curva PR\n",
    "precision, recall, _ = precision_recall_curve(y_test, y_pred_prob)\n",
    "auc_pr = average_precision_score(y_test, y_pred_prob)\n",
    "\n",
    "# Plot\n",
    "plt.figure(figsize=(8, 5))\n",
    "sns.lineplot(x=recall, y=precision, label=f'AUC-PR = {auc_pr:.2f}')\n",
    "plt.xlabel('Recall')\n",
    "plt.ylabel('Precision')\n",
    "plt.title('Curva Precision-Recall - XGBoost')\n",
    "plt.legend(loc='lower left')\n",
    "plt.xlim([0, 1])\n",
    "plt.ylim([0, 1.05])\n",
    "plt.tight_layout()\n",
    "plt.show()"
   ]
  },
  {
   "cell_type": "markdown",
   "id": "72949473",
   "metadata": {},
   "source": [
    "La curva Precision-Recall evidenzia l'elevatissima qualità predittiva del modello XGBoost:\n",
    "la curva si mantiene vicina al valore massimo per entrambe le metriche fino a soglie molto basse.\n",
    "Con un'AUC-PR pari a 1.00, il classificatore riesce a distinguere in modo quasi perfetto le classi, dimostrando un’ottima capacità di rilevare correttamente i casi di stockout senza sacrificare la precision."
   ]
  },
  {
   "cell_type": "code",
   "execution_count": null,
   "id": "47a3dfd9",
   "metadata": {},
   "outputs": [],
   "source": [
    "\n",
    "date_col = pd.read_csv('supply_chain_dataset1.csv', usecols=['Date'])\n",
    "\n",
    "df['Date'] = pd.to_datetime(date_col['Date'])\n",
    "\n",
    "X_test['SKU_ID'] = df.loc[X_test.index, 'SKU_ID']\n",
    "X_test['Date'] = df.loc[X_test.index, 'Date']\n",
    "X_test['Inventory_Level'] = df.loc[X_test.index, 'Inventory_Level']\n",
    "X_test['Demand_Forecast'] = df.loc[X_test.index, 'Demand_Forecast']\n",
    "X_test['Promotion_Flag'] = df.loc[X_test.index, 'Promotion_Flag']\n",
    "X_test['Lead_Time'] = df.loc[X_test.index, 'Supplier_Lead_Time_Days']\n",
    "\n",
    "X_test_model = X_test[xgb_model.get_booster().feature_names]\n",
    "\n",
    "X_test['Risk_Probability'] = xgb_model.predict_proba(X_test_model)[:, 1]\n",
    "X_test['Stockout_Risk_Flag'] = (X_test['Risk_Probability'] > y_pred_075).astype(int)\n",
    "\n",
    "X_test[['SKU_ID', 'Date', 'Inventory_Level', 'Demand_Forecast', 'Promotion_Flag', 'Lead_Time', 'Risk_Probability', 'Stockout_Risk_Flag']].to_csv('stockout_predictions.csv', index=False)\n"
   ]
  }
 ],
 "metadata": {
  "kernelspec": {
   "display_name": "Python 3",
   "language": "python",
   "name": "python3"
  },
  "language_info": {
   "codemirror_mode": {
    "name": "ipython",
    "version": 3
   },
   "file_extension": ".py",
   "mimetype": "text/x-python",
   "name": "python",
   "nbconvert_exporter": "python",
   "pygments_lexer": "ipython3",
   "version": "3.13.3"
  }
 },
 "nbformat": 4,
 "nbformat_minor": 5
}
